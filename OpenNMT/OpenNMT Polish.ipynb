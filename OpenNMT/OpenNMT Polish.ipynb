{
 "cells": [
  {
   "cell_type": "code",
   "execution_count": 1,
   "id": "5b9eb641",
   "metadata": {},
   "outputs": [
    {
     "name": "stdout",
     "output_type": "stream",
     "text": [
      "Requirement already satisfied: OpenNMT-py in c:\\users\\bryan\\anaconda3\\lib\\site-packages (2.2.0)\n",
      "Requirement already satisfied: pyyaml in c:\\users\\bryan\\anaconda3\\lib\\site-packages (from OpenNMT-py) (5.4.1)\n",
      "Requirement already satisfied: flask in c:\\users\\bryan\\anaconda3\\lib\\site-packages (from OpenNMT-py) (1.1.2)\n",
      "Requirement already satisfied: torchtext==0.5.0 in c:\\users\\bryan\\anaconda3\\lib\\site-packages (from OpenNMT-py) (0.5.0)\n",
      "Requirement already satisfied: configargparse in c:\\users\\bryan\\anaconda3\\lib\\site-packages (from OpenNMT-py) (1.5.3)\n",
      "Requirement already satisfied: tensorboard>=2.3 in c:\\users\\bryan\\anaconda3\\lib\\site-packages (from OpenNMT-py) (2.8.0)\n",
      "Requirement already satisfied: waitress in c:\\users\\bryan\\anaconda3\\lib\\site-packages (from OpenNMT-py) (2.0.0)\n",
      "Requirement already satisfied: torch>=1.6.0 in c:\\users\\bryan\\anaconda3\\lib\\site-packages (from OpenNMT-py) (1.10.2)\n",
      "Requirement already satisfied: sentencepiece in c:\\users\\bryan\\anaconda3\\lib\\site-packages (from torchtext==0.5.0->OpenNMT-py) (0.1.96)\n",
      "Requirement already satisfied: six in c:\\users\\bryan\\anaconda3\\lib\\site-packages (from torchtext==0.5.0->OpenNMT-py) (1.15.0)\n",
      "Requirement already satisfied: tqdm in c:\\users\\bryan\\anaconda3\\lib\\site-packages (from torchtext==0.5.0->OpenNMT-py) (4.62.3)\n",
      "Requirement already satisfied: requests in c:\\users\\bryan\\anaconda3\\lib\\site-packages (from torchtext==0.5.0->OpenNMT-py) (2.27.1)\n",
      "Requirement already satisfied: numpy in c:\\users\\bryan\\anaconda3\\lib\\site-packages (from torchtext==0.5.0->OpenNMT-py) (1.20.1)\n",
      "Requirement already satisfied: grpcio>=1.24.3 in c:\\users\\bryan\\anaconda3\\lib\\site-packages (from tensorboard>=2.3->OpenNMT-py) (1.44.0)\n",
      "Requirement already satisfied: markdown>=2.6.8 in c:\\users\\bryan\\anaconda3\\lib\\site-packages (from tensorboard>=2.3->OpenNMT-py) (3.3.6)\n",
      "Requirement already satisfied: wheel>=0.26 in c:\\users\\bryan\\anaconda3\\lib\\site-packages (from tensorboard>=2.3->OpenNMT-py) (0.36.2)\n",
      "Requirement already satisfied: google-auth-oauthlib<0.5,>=0.4.1 in c:\\users\\bryan\\anaconda3\\lib\\site-packages (from tensorboard>=2.3->OpenNMT-py) (0.4.6)\n",
      "Requirement already satisfied: google-auth<3,>=1.6.3 in c:\\users\\bryan\\anaconda3\\lib\\site-packages (from tensorboard>=2.3->OpenNMT-py) (2.6.0)\n",
      "Requirement already satisfied: protobuf>=3.6.0 in c:\\users\\bryan\\anaconda3\\lib\\site-packages (from tensorboard>=2.3->OpenNMT-py) (3.19.4)\n",
      "Requirement already satisfied: tensorboard-plugin-wit>=1.6.0 in c:\\users\\bryan\\anaconda3\\lib\\site-packages (from tensorboard>=2.3->OpenNMT-py) (1.8.1)\n",
      "Requirement already satisfied: setuptools>=41.0.0 in c:\\users\\bryan\\anaconda3\\lib\\site-packages (from tensorboard>=2.3->OpenNMT-py) (52.0.0.post20210125)\n",
      "Requirement already satisfied: absl-py>=0.4 in c:\\users\\bryan\\anaconda3\\lib\\site-packages (from tensorboard>=2.3->OpenNMT-py) (1.0.0)\n",
      "Requirement already satisfied: tensorboard-data-server<0.7.0,>=0.6.0 in c:\\users\\bryan\\anaconda3\\lib\\site-packages (from tensorboard>=2.3->OpenNMT-py) (0.6.1)\n",
      "Requirement already satisfied: werkzeug>=0.11.15 in c:\\users\\bryan\\anaconda3\\lib\\site-packages (from tensorboard>=2.3->OpenNMT-py) (1.0.1)\n",
      "Requirement already satisfied: pyasn1-modules>=0.2.1 in c:\\users\\bryan\\anaconda3\\lib\\site-packages (from google-auth<3,>=1.6.3->tensorboard>=2.3->OpenNMT-py) (0.2.8)\n",
      "Requirement already satisfied: rsa<5,>=3.1.4 in c:\\users\\bryan\\anaconda3\\lib\\site-packages (from google-auth<3,>=1.6.3->tensorboard>=2.3->OpenNMT-py) (4.8)\n",
      "Requirement already satisfied: cachetools<6.0,>=2.0.0 in c:\\users\\bryan\\anaconda3\\lib\\site-packages (from google-auth<3,>=1.6.3->tensorboard>=2.3->OpenNMT-py) (4.2.4)\n",
      "Requirement already satisfied: requests-oauthlib>=0.7.0 in c:\\users\\bryan\\anaconda3\\lib\\site-packages (from google-auth-oauthlib<0.5,>=0.4.1->tensorboard>=2.3->OpenNMT-py) (1.3.1)\n",
      "Requirement already satisfied: importlib-metadata>=4.4 in c:\\users\\bryan\\anaconda3\\lib\\site-packages (from markdown>=2.6.8->tensorboard>=2.3->OpenNMT-py) (4.11.1)\n",
      "Requirement already satisfied: zipp>=0.5 in c:\\users\\bryan\\anaconda3\\lib\\site-packages (from importlib-metadata>=4.4->markdown>=2.6.8->tensorboard>=2.3->OpenNMT-py) (3.4.1)\n",
      "Requirement already satisfied: pyasn1<0.5.0,>=0.4.6 in c:\\users\\bryan\\anaconda3\\lib\\site-packages (from pyasn1-modules>=0.2.1->google-auth<3,>=1.6.3->tensorboard>=2.3->OpenNMT-py) (0.4.8)\n",
      "Requirement already satisfied: idna<4,>=2.5 in c:\\users\\bryan\\anaconda3\\lib\\site-packages (from requests->torchtext==0.5.0->OpenNMT-py) (2.10)\n",
      "Requirement already satisfied: certifi>=2017.4.17 in c:\\users\\bryan\\anaconda3\\lib\\site-packages (from requests->torchtext==0.5.0->OpenNMT-py) (2020.12.5)\n",
      "Requirement already satisfied: charset-normalizer~=2.0.0 in c:\\users\\bryan\\anaconda3\\lib\\site-packages (from requests->torchtext==0.5.0->OpenNMT-py) (2.0.11)\n",
      "Requirement already satisfied: urllib3<1.27,>=1.21.1 in c:\\users\\bryan\\anaconda3\\lib\\site-packages (from requests->torchtext==0.5.0->OpenNMT-py) (1.26.4)\n",
      "Requirement already satisfied: oauthlib>=3.0.0 in c:\\users\\bryan\\anaconda3\\lib\\site-packages (from requests-oauthlib>=0.7.0->google-auth-oauthlib<0.5,>=0.4.1->tensorboard>=2.3->OpenNMT-py) (3.2.0)\n",
      "Requirement already satisfied: typing-extensions in c:\\users\\bryan\\anaconda3\\lib\\site-packages (from torch>=1.6.0->OpenNMT-py) (3.7.4.3)\n",
      "Requirement already satisfied: click>=5.1 in c:\\users\\bryan\\anaconda3\\lib\\site-packages (from flask->OpenNMT-py) (7.1.2)\n",
      "Requirement already satisfied: Jinja2>=2.10.1 in c:\\users\\bryan\\anaconda3\\lib\\site-packages (from flask->OpenNMT-py) (2.11.3)\n",
      "Requirement already satisfied: itsdangerous>=0.24 in c:\\users\\bryan\\anaconda3\\lib\\site-packages (from flask->OpenNMT-py) (1.1.0)\n",
      "Requirement already satisfied: MarkupSafe>=0.23 in c:\\users\\bryan\\anaconda3\\lib\\site-packages (from Jinja2>=2.10.1->flask->OpenNMT-py) (1.1.1)\n",
      "Requirement already satisfied: colorama in c:\\users\\bryan\\anaconda3\\lib\\site-packages (from tqdm->torchtext==0.5.0->OpenNMT-py) (0.4.4)\n",
      "Note: you may need to restart the kernel to use updated packages.\n"
     ]
    }
   ],
   "source": [
    "pip install OpenNMT-py"
   ]
  },
  {
   "cell_type": "code",
   "execution_count": null,
   "id": "28cac556",
   "metadata": {},
   "outputs": [],
   "source": []
  }
 ],
 "metadata": {
  "kernelspec": {
   "display_name": "Python 3",
   "language": "python",
   "name": "python3"
  },
  "language_info": {
   "codemirror_mode": {
    "name": "ipython",
    "version": 3
   },
   "file_extension": ".py",
   "mimetype": "text/x-python",
   "name": "python",
   "nbconvert_exporter": "python",
   "pygments_lexer": "ipython3",
   "version": "3.8.8"
  }
 },
 "nbformat": 4,
 "nbformat_minor": 5
}
